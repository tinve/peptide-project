{
 "cells": [
  {
   "cell_type": "code",
   "execution_count": 101,
   "metadata": {
    "collapsed": true
   },
   "outputs": [],
   "source": [
    "from __future__ import division\n",
    "import numpy as np\n",
    "import pandas as pd\n",
    "import matplotlib.pyplot as plt\n",
    "import os\n",
    "\n",
    "os.chdir('/home/galina/PycharmProjects/Peptide Signal')"
   ]
  },
  {
   "cell_type": "code",
   "execution_count": 117,
   "metadata": {
    "collapsed": true
   },
   "outputs": [],
   "source": [
    "signal = 'Peptide'\n",
    "# signal = 'Streptavidin'\n",
    "# signal = 'aMyc'"
   ]
  },
  {
   "cell_type": "code",
   "execution_count": 118,
   "metadata": {
    "collapsed": true
   },
   "outputs": [],
   "source": [
    "bases = ['WTHPQFAT',\n",
    "         'LQWHPQAGK',\n",
    "         'GKFPIPLGKQSG',\n",
    "         'NGQFQVWIPGAQK']\n",
    "\n",
    "aminoacids = ['A', 'C', 'D', 'E', 'F',\n",
    "              'G', 'H', 'I', 'K', 'L',\n",
    "              'M', 'N', 'P', 'Q', 'R',\n",
    "              'S', 'T', 'V', 'W', 'Y']"
   ]
  },
  {
   "cell_type": "markdown",
   "metadata": {},
   "source": [
    "# Creating list of peptide names"
   ]
  },
  {
   "cell_type": "code",
   "execution_count": 119,
   "metadata": {
    "collapsed": false
   },
   "outputs": [],
   "source": [
    "def namelist(base, n):\n",
    "    names = []\n",
    "    for a in aminoacids:\n",
    "        names.append(base[:n - 1] + a + base[n:])\n",
    "    return names"
   ]
  },
  {
   "cell_type": "markdown",
   "metadata": {},
   "source": [
    "# Subsetting data"
   ]
  },
  {
   "cell_type": "code",
   "execution_count": 120,
   "metadata": {
    "collapsed": true
   },
   "outputs": [],
   "source": [
    "def reorder(data, names):\n",
    "    return data"
   ]
  },
  {
   "cell_type": "code",
   "execution_count": 121,
   "metadata": {
    "collapsed": false
   },
   "outputs": [],
   "source": [
    "def subset(base, n):\n",
    "    names = namelist(base, n)\n",
    "    data = pd.read_csv('result.csv', header = 0)\n",
    "    data = data[data['Peptide Length'] == len(base)]\n",
    "    data = data[data['Peptide'].isin(names)]\n",
    "    data = reorder(data, names)\n",
    "    return data"
   ]
  },
  {
   "cell_type": "markdown",
   "metadata": {},
   "source": [
    "# Plotting"
   ]
  },
  {
   "cell_type": "code",
   "execution_count": 122,
   "metadata": {
    "collapsed": false
   },
   "outputs": [],
   "source": [
    "def plot_series(data, base, signal, filename):\n",
    "    x       = data[signal + ' Signal Mean NN'].tolist()\n",
    "    xbar    = data[signal + ' Signal SE']\n",
    "    \n",
    "    ylabels = data['Peptide'].tolist()\n",
    "    y       = range(len(ylabels), 0, -1)\n",
    "    \n",
    "    width = 6\n",
    "    height = 0.36 * (len(y) + 1.4) + 1.1\n",
    "    \n",
    "    # rescale\n",
    "    x    = [e*1000 for e in x]\n",
    "    xbar = [e*1000 for e in xbar]\n",
    "    \n",
    "    fig = plt.figure(figsize = (width, height))\n",
    "    ax = fig.add_subplot(1, 1, 1)\n",
    "    ax.errorbar(x, y, xerr = xbar, marker='o', color = 'k', ls = 'none')\n",
    "    plt.yticks(y, ylabels)\n",
    "    plt.grid(alpha = 0.5)\n",
    "    \n",
    "    plt.subplots_adjust(left = 1.8 / width,\n",
    "                        right = 1 - 0.3 / width,\n",
    "                        bottom = 0.8 / height,\n",
    "                        top = 1 - 0.3 / height)\n",
    "    \n",
    "    if signal == 'Peptide':\n",
    "        plt.xlim(left = 0, right = 5.0)\n",
    "    elif signal == 'Streptavidin':\n",
    "        plt.xlim(left = 0, right = 1.6)\n",
    "        ax.set_xticks(np.arange(0, 1.7, 0.4))\n",
    "    else:\n",
    "        plt.xlim(left = 0, right = 0.3)\n",
    "        \n",
    "    plt.ylim(bottom = min(y) - 0.7, top = max(y) + 0.7)\n",
    "    \n",
    "    plt.xlabel('OI-RD signal (mrad)', labelpad = 12, fontsize = 14)\n",
    "    \n",
    "    for label in ax.get_xticklabels(): \n",
    "        label.set_fontname('DejaVu Sans Mono')\n",
    "        label.set_fontsize(14)\n",
    "\n",
    "    for label in ax.get_yticklabels():\n",
    "        label.set_fontname('DejaVu Sans Mono') # alternatively: 'Droid Sans Mono', 'FreeMono' or 'Liberation Mono'\n",
    "        label.set_fontsize(14)\n",
    "        if label.get_text() == base:\n",
    "            label.set_weight('black')\n",
    "        else:\n",
    "            label.set_color('0.2')\n",
    "    \n",
    "    for tick in ax.get_xaxis().get_major_ticks():\n",
    "        tick.set_pad(6)\n",
    "        \n",
    "    for tick in ax.get_yaxis().get_major_ticks():\n",
    "        tick.set_pad(8)\n",
    "\n",
    "#    plt.show()\n",
    "    plt.savefig(filename)"
   ]
  },
  {
   "cell_type": "markdown",
   "metadata": {},
   "source": [
    "# Execution"
   ]
  },
  {
   "cell_type": "code",
   "execution_count": 123,
   "metadata": {
    "collapsed": false
   },
   "outputs": [],
   "source": [
    "for b in bases:\n",
    "    for i in range(1, len(b) + 1):\n",
    "        filename = 'base ' + str(len(b)) + ', letter ' + str(i) + '.png'\n",
    "        plot_series(subset(b, i), b, signal, filename)"
   ]
  },
  {
   "cell_type": "code",
   "execution_count": 15,
   "metadata": {
    "collapsed": false,
    "scrolled": true
   },
   "outputs": [],
   "source": [
    "# print subset(base, 5)"
   ]
  },
  {
   "cell_type": "code",
   "execution_count": 98,
   "metadata": {
    "collapsed": false
   },
   "outputs": [],
   "source": [
    "# plot_series(subset(base, 5), base, 'a')"
   ]
  },
  {
   "cell_type": "code",
   "execution_count": 109,
   "metadata": {
    "collapsed": false
   },
   "outputs": [],
   "source": [
    "plt.clf()\n",
    "plt.close('all')"
   ]
  },
  {
   "cell_type": "code",
   "execution_count": null,
   "metadata": {
    "collapsed": true
   },
   "outputs": [],
   "source": []
  }
 ],
 "metadata": {
  "kernelspec": {
   "display_name": "Python 2",
   "language": "python",
   "name": "python2"
  },
  "language_info": {
   "codemirror_mode": {
    "name": "ipython",
    "version": 2
   },
   "file_extension": ".py",
   "mimetype": "text/x-python",
   "name": "python",
   "nbconvert_exporter": "python",
   "pygments_lexer": "ipython2",
   "version": "2.7.6"
  }
 },
 "nbformat": 4,
 "nbformat_minor": 0
}
