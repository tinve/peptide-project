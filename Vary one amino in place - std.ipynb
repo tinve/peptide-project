{
 "cells": [
  {
   "cell_type": "code",
   "execution_count": 45,
   "metadata": {
    "collapsed": true
   },
   "outputs": [],
   "source": [
    "from __future__ import division\n",
    "import numpy as np\n",
    "import pandas as pd\n",
    "import matplotlib.pyplot as plt\n",
    "import os\n",
    "\n",
    "os.chdir('/home/galina/PycharmProjects/Peptide Signal')"
   ]
  },
  {
   "cell_type": "code",
   "execution_count": 46,
   "metadata": {
    "collapsed": true
   },
   "outputs": [],
   "source": [
    "signal = 'Peptide'"
   ]
  },
  {
   "cell_type": "code",
   "execution_count": 47,
   "metadata": {
    "collapsed": true
   },
   "outputs": [],
   "source": [
    "bases = ['WTHPQFAT',\n",
    "         'LQWHPQAGK',\n",
    "         'GKFPIPLGKQSG',\n",
    "         'NGQFQVWIPGAQK']\n",
    "\n",
    "aminoacids = ['A', 'C', 'D', 'E', 'F',\n",
    "              'G', 'H', 'I', 'K', 'L',\n",
    "              'M', 'N', 'P', 'Q', 'R',\n",
    "              'S', 'T', 'V', 'W', 'Y']"
   ]
  },
  {
   "cell_type": "markdown",
   "metadata": {},
   "source": [
    "# Creating list of peptide names"
   ]
  },
  {
   "cell_type": "code",
   "execution_count": 48,
   "metadata": {
    "collapsed": false
   },
   "outputs": [],
   "source": [
    "def namelist(base, n):\n",
    "    names = []\n",
    "    for a in aminoacids:\n",
    "        names.append(base[:n - 1] + a + base[n:])\n",
    "    return names"
   ]
  },
  {
   "cell_type": "markdown",
   "metadata": {},
   "source": [
    "# Subsetting data"
   ]
  },
  {
   "cell_type": "code",
   "execution_count": 49,
   "metadata": {
    "collapsed": true
   },
   "outputs": [],
   "source": [
    "def reorder(data, names):\n",
    "    return data"
   ]
  },
  {
   "cell_type": "code",
   "execution_count": 50,
   "metadata": {
    "collapsed": false
   },
   "outputs": [],
   "source": [
    "def subset(base, n):\n",
    "    names = namelist(base, n)\n",
    "    data = pd.read_csv('result.csv', header = 0)\n",
    "    data = data[data['Peptide Length'] == len(base)]\n",
    "    data = data[data['Peptide'].isin(names)]\n",
    "    data = reorder(data, names)\n",
    "    return data"
   ]
  },
  {
   "cell_type": "markdown",
   "metadata": {},
   "source": [
    "# Plotting"
   ]
  },
  {
   "cell_type": "code",
   "execution_count": 51,
   "metadata": {
    "collapsed": false
   },
   "outputs": [],
   "source": [
    "def plot_std(letters, stds, filename):\n",
    "\n",
    "    width = 0.5 * (len(letters) + 1.4) + 1.3\n",
    "    height = 6\n",
    "\n",
    "    # rescale\n",
    "    stds = [x * 1000 for x in stds]\n",
    "    \n",
    "    fig = plt.figure(figsize = (width, height))\n",
    "    ax = fig.add_subplot(1, 1, 1)\n",
    "\n",
    "    ax.plot(letters, stds, 'o:', color = 'black')\n",
    "\n",
    "    plt.grid(alpha = 0.5)\n",
    "    \n",
    "    plt.subplots_adjust(left = 1.0 / width,\n",
    "                    right = 1 - 0.3 / width,\n",
    "                    bottom = 0.8 / height,\n",
    "                    top = 1 - 0.3 / height)\n",
    "    \n",
    "    plt.xlim(left = 0.3, right = len(letters) + 0.7)\n",
    "    plt.ylim(bottom = 0, top = 1.0)\n",
    "    \n",
    "    plt.xticks(letters)\n",
    "    ax.ticklabel_format(axis = 'y', style = 'sci')\n",
    "    for tick in ax.get_xaxis().get_major_ticks():\n",
    "        tick.set_pad(6)\n",
    "    for tick in ax.get_yaxis().get_major_ticks():\n",
    "        tick.set_pad(6)\n",
    "    \n",
    "    plt.xlabel('Varied Aminoacid Number', labelpad = 12, fontsize = 14)\n",
    "    plt.ylabel('Peptide Signal Standard Deviation (mrad)', labelpad = 15, fontsize = 14)\n",
    "\n",
    "#    plt.show()\n",
    "    plt.savefig(filename)"
   ]
  },
  {
   "cell_type": "markdown",
   "metadata": {},
   "source": [
    "# Execution"
   ]
  },
  {
   "cell_type": "code",
   "execution_count": 54,
   "metadata": {
    "collapsed": false
   },
   "outputs": [
    {
     "name": "stdout",
     "output_type": "stream",
     "text": [
      "Peptide signal standard deviation for chain of length 8.png\n",
      "Peptide signal standard deviation for chain of length 9.png\n",
      "Peptide signal standard deviation for chain of length 12.png\n",
      "Peptide signal standard deviation for chain of length 13.png\n"
     ]
    }
   ],
   "source": [
    "for b in bases:\n",
    "    letters = []\n",
    "    stds = []\n",
    "    filename = 'Peptide signal standard deviation for chain of length ' + str(len(b)) + '.png'\n",
    "    \n",
    "    for i in range(1, len(b) + 1):\n",
    "        letters.append(i)\n",
    "        stds.append( np.std(subset(b, i)[signal + ' Signal Mean NN']) )\n",
    "        \n",
    "    print filename\n",
    "#    plot_std(letters, stds, filename)"
   ]
  },
  {
   "cell_type": "code",
   "execution_count": 52,
   "metadata": {
    "collapsed": false
   },
   "outputs": [],
   "source": [
    "plt.clf()\n",
    "plt.close('all')"
   ]
  },
  {
   "cell_type": "code",
   "execution_count": null,
   "metadata": {
    "collapsed": true
   },
   "outputs": [],
   "source": []
  }
 ],
 "metadata": {
  "kernelspec": {
   "display_name": "Python 2",
   "language": "python",
   "name": "python2"
  },
  "language_info": {
   "codemirror_mode": {
    "name": "ipython",
    "version": 2
   },
   "file_extension": ".py",
   "mimetype": "text/x-python",
   "name": "python",
   "nbconvert_exporter": "python",
   "pygments_lexer": "ipython2",
   "version": "2.7.6"
  }
 },
 "nbformat": 4,
 "nbformat_minor": 0
}
