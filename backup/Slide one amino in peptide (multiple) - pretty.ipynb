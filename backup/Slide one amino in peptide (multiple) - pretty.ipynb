{
 "cells": [
  {
   "cell_type": "code",
   "execution_count": 1,
   "metadata": {
    "collapsed": true
   },
   "outputs": [],
   "source": [
    "import numpy as np\n",
    "import pandas as pd\n",
    "import matplotlib.pyplot as plt\n",
    "import os\n",
    "\n",
    "os.chdir('/home/galina/PycharmProjects/Peptide Signal')"
   ]
  },
  {
   "cell_type": "code",
   "execution_count": 8,
   "metadata": {
    "collapsed": true
   },
   "outputs": [],
   "source": [
    "length = 9\n",
    "# signal = 'Peptide'\n",
    "# signal = 'Streptavidin'\n",
    "signals = ['aMyc']"
   ]
  },
  {
   "cell_type": "markdown",
   "metadata": {},
   "source": [
    "# Base peptide sequences"
   ]
  },
  {
   "cell_type": "code",
   "execution_count": 3,
   "metadata": {
    "collapsed": false
   },
   "outputs": [],
   "source": [
    "if   length == 8:\n",
    "    base = 'WTHPQFAT'\n",
    "elif length == 9:\n",
    "    base = 'LQWHPQAGK'\n",
    "elif length == 12:\n",
    "    base = 'GKFPIPLGKQSG'\n",
    "elif length == 13:\n",
    "    base = 'NGQFQVWIPGAQK'\n",
    "else:\n",
    "    print 'No base of such length'\n",
    "    \n",
    "aminoacids = ['A', 'C', 'D', 'E', 'F',\n",
    "              'G', 'H', 'I', 'K', 'L',\n",
    "              'M', 'N', 'P', 'Q', 'R',\n",
    "              'S', 'T', 'V', 'W', 'Y']"
   ]
  },
  {
   "cell_type": "markdown",
   "metadata": {},
   "source": [
    "# Creating list of peptide names"
   ]
  },
  {
   "cell_type": "code",
   "execution_count": 4,
   "metadata": {
    "collapsed": false
   },
   "outputs": [],
   "source": [
    "def namelist(base, a):\n",
    "    names = []\n",
    "    for i in range(length):\n",
    "        names.append(base[:i] + a + base[i+1:])\n",
    "    return names"
   ]
  },
  {
   "cell_type": "markdown",
   "metadata": {},
   "source": [
    "# Subsetting data"
   ]
  },
  {
   "cell_type": "code",
   "execution_count": 5,
   "metadata": {
    "collapsed": true
   },
   "outputs": [],
   "source": [
    "def reorder(data, names):\n",
    "    result = pd.DataFrame(columns = data.columns)\n",
    "    \n",
    "    for name in names:\n",
    "        for row in data.iterrows():\n",
    "            if row[1]['Peptide'] == name:\n",
    "                result = result.append(row[1])\n",
    "    \n",
    "    return result"
   ]
  },
  {
   "cell_type": "code",
   "execution_count": 6,
   "metadata": {
    "collapsed": false
   },
   "outputs": [],
   "source": [
    "def subset(base, a):\n",
    "    names = namelist(base, a)\n",
    "    data = pd.read_csv('result.csv', header = 0)\n",
    "    data = data[data['Peptide Length'] == len(base)]\n",
    "    data = data.query('Peptide in names')\n",
    "    data = reorder(data, names)\n",
    "\n",
    "    return data"
   ]
  },
  {
   "cell_type": "code",
   "execution_count": 404,
   "metadata": {
    "collapsed": false
   },
   "outputs": [],
   "source": [
    "def plot_series(data, filename):\n",
    "    x       = [data[signal + ' Signal Mean NN'].tolist() for signal in signals]\n",
    "    ylabels = data['Peptide'].tolist()\n",
    "    xbar    = data[signal + ' Signal SE']\n",
    "    y       = range(len(x), 0, -1)\n",
    "    \n",
    "    width = 6\n",
    "    height = 0.36 * (len(y) + 1.4) + 1.1\n",
    "    \n",
    "    # rescale\n",
    "    x    = [e*1000 for e in x]\n",
    "    xbar = [e*1000 for e in xbar]\n",
    "    \n",
    "    fig = plt.figure(figsize = (width, height))\n",
    "    ax = fig.add_subplot(1, 1, 1)\n",
    "    ax.errorbar(x, y, xerr = xbar, marker='o', color = 'k', ls = 'none')\n",
    "    plt.yticks(y, ylabels)\n",
    "    plt.grid(alpha = 0.5)\n",
    "    \n",
    "    plt.subplots_adjust(left = 1.8 / width,\n",
    "                        right = 1 - 0.3 / width,\n",
    "                        bottom = 0.8 / height,\n",
    "                        top = 1 - 0.3 / height)\n",
    "    if signal == 'Peptide':\n",
    "        plt.xlim(left = 0, right = 5)\n",
    "    else:\n",
    "        plt.xlim(left = 0, right = 1.4)\n",
    "    plt.ylim(bottom = min(y) - 0.7, top = max(y) + 0.7)\n",
    "    \n",
    "    plt.xlabel('OI-RD signal (mrad)', labelpad = 12, fontsize = 14)\n",
    "    \n",
    "    for label in ax.get_xticklabels(): \n",
    "        label.set_fontname('DejaVu Sans Mono')\n",
    "        label.set_fontsize(14)\n",
    "\n",
    "    for label in ax.get_yticklabels(): \n",
    "        label.set_fontname('DejaVu Sans Mono') # alternatively: 'Droid Sans Mono', 'FreeMono' or 'Liberation Mono'\n",
    "        label.set_fontsize(14)\n",
    "    \n",
    "    for tick in ax.get_xaxis().get_major_ticks():\n",
    "        tick.set_pad(6)\n",
    "        \n",
    "    for tick in ax.get_yaxis().get_major_ticks():\n",
    "        tick.set_pad(8)\n",
    "\n",
    "#    plt.show()\n",
    "    plt.savefig(filename)"
   ]
  },
  {
   "cell_type": "code",
   "execution_count": 405,
   "metadata": {
    "collapsed": false
   },
   "outputs": [],
   "source": [
    "for a in aminoacids:\n",
    "    filename = 'base ' + str(length) + ', letter ' + a + '.png'\n",
    "    plot_series(subset(base, a), filename)"
   ]
  },
  {
   "cell_type": "code",
   "execution_count": 406,
   "metadata": {
    "collapsed": false
   },
   "outputs": [],
   "source": [
    "# print subset(base, 'A')"
   ]
  },
  {
   "cell_type": "code",
   "execution_count": 407,
   "metadata": {
    "collapsed": false
   },
   "outputs": [],
   "source": [
    "# plot_series(subset(base, 'A'), 'a')"
   ]
  },
  {
   "cell_type": "code",
   "execution_count": 408,
   "metadata": {
    "collapsed": true
   },
   "outputs": [],
   "source": [
    "plt.clf()\n",
    "plt.close('all')"
   ]
  },
  {
   "cell_type": "code",
   "execution_count": null,
   "metadata": {
    "collapsed": true
   },
   "outputs": [],
   "source": []
  },
  {
   "cell_type": "code",
   "execution_count": 9,
   "metadata": {
    "collapsed": false
   },
   "outputs": [
    {
     "ename": "NameError",
     "evalue": "name 'data' is not defined",
     "output_type": "error",
     "traceback": [
      "\u001b[1;31m---------------------------------------------------------------------------\u001b[0m",
      "\u001b[1;31mNameError\u001b[0m                                 Traceback (most recent call last)",
      "\u001b[1;32m<ipython-input-9-ce5d90bb4067>\u001b[0m in \u001b[0;36m<module>\u001b[1;34m()\u001b[0m\n\u001b[1;32m----> 1\u001b[1;33m \u001b[0mx\u001b[0m       \u001b[1;33m=\u001b[0m \u001b[1;33m[\u001b[0m\u001b[0mdata\u001b[0m\u001b[1;33m[\u001b[0m\u001b[0msignal\u001b[0m \u001b[1;33m+\u001b[0m \u001b[1;34m' Signal Mean NN'\u001b[0m\u001b[1;33m]\u001b[0m\u001b[1;33m.\u001b[0m\u001b[0mtolist\u001b[0m\u001b[1;33m(\u001b[0m\u001b[1;33m)\u001b[0m \u001b[1;32mfor\u001b[0m \u001b[0msignal\u001b[0m \u001b[1;32min\u001b[0m \u001b[0msignals\u001b[0m\u001b[1;33m]\u001b[0m\u001b[1;33m\u001b[0m\u001b[0m\n\u001b[0m",
      "\u001b[1;31mNameError\u001b[0m: name 'data' is not defined"
     ]
    }
   ],
   "source": [
    "x       = [data[signal + ' Signal Mean NN'].tolist() for signal in signals]"
   ]
  },
  {
   "cell_type": "code",
   "execution_count": null,
   "metadata": {
    "collapsed": true
   },
   "outputs": [],
   "source": []
  }
 ],
 "metadata": {
  "kernelspec": {
   "display_name": "Python 2",
   "language": "python",
   "name": "python2"
  },
  "language_info": {
   "codemirror_mode": {
    "name": "ipython",
    "version": 2
   },
   "file_extension": ".py",
   "mimetype": "text/x-python",
   "name": "python",
   "nbconvert_exporter": "python",
   "pygments_lexer": "ipython2",
   "version": "2.7.6"
  }
 },
 "nbformat": 4,
 "nbformat_minor": 0
}
