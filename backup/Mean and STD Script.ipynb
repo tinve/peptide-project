{
 "cells": [
  {
   "cell_type": "code",
   "execution_count": 59,
   "metadata": {
    "collapsed": true
   },
   "outputs": [],
   "source": [
    "import numpy as np\n",
    "import pandas as pd\n",
    "import os\n",
    "\n",
    "from scipy import stats\n",
    "\n",
    "os.chdir('/home/galina/PycharmProjects/Peptide Signal')"
   ]
  },
  {
   "cell_type": "markdown",
   "metadata": {
    "collapsed": false
   },
   "source": [
    "# Helper function, finds weight of aminoacid"
   ]
  },
  {
   "cell_type": "code",
   "execution_count": 60,
   "metadata": {
    "collapsed": true
   },
   "outputs": [],
   "source": [
    "def weight(name, dictionary):\n",
    "    w = 0\n",
    "    for e in name:\n",
    "        w = w + dictionary[e]\n",
    "    return int(w)"
   ]
  },
  {
   "cell_type": "markdown",
   "metadata": {},
   "source": [
    "# Aminoacid weights to dictionary"
   ]
  },
  {
   "cell_type": "code",
   "execution_count": 61,
   "metadata": {
    "collapsed": false
   },
   "outputs": [
    {
     "data": {
      "text/html": [
       "<div style=\"max-height:1000px;max-width:1500px;overflow:auto;\">\n",
       "<table border=\"1\" class=\"dataframe\">\n",
       "  <thead>\n",
       "    <tr style=\"text-align: right;\">\n",
       "      <th></th>\n",
       "      <th>Aminoacid</th>\n",
       "      <th>1-Letter Code</th>\n",
       "      <th>Molecular weight, kDa</th>\n",
       "    </tr>\n",
       "  </thead>\n",
       "  <tbody>\n",
       "    <tr>\n",
       "      <th>0</th>\n",
       "      <td>    Alanine</td>\n",
       "      <td> A</td>\n",
       "      <td>  89</td>\n",
       "    </tr>\n",
       "    <tr>\n",
       "      <th>1</th>\n",
       "      <td>   Arginine</td>\n",
       "      <td> R</td>\n",
       "      <td> 174</td>\n",
       "    </tr>\n",
       "    <tr>\n",
       "      <th>2</th>\n",
       "      <td> Asparagine</td>\n",
       "      <td> N</td>\n",
       "      <td> 132</td>\n",
       "    </tr>\n",
       "    <tr>\n",
       "      <th>3</th>\n",
       "      <td>   Aspartic</td>\n",
       "      <td> D</td>\n",
       "      <td> 133</td>\n",
       "    </tr>\n",
       "    <tr>\n",
       "      <th>4</th>\n",
       "      <td>   Cysteine</td>\n",
       "      <td> C</td>\n",
       "      <td> 121</td>\n",
       "    </tr>\n",
       "  </tbody>\n",
       "</table>\n",
       "<p>5 rows × 3 columns</p>\n",
       "</div>"
      ],
      "text/plain": [
       "    Aminoacid 1-Letter Code  Molecular weight, kDa\n",
       "0     Alanine             A                     89\n",
       "1    Arginine             R                    174\n",
       "2  Asparagine             N                    132\n",
       "3    Aspartic             D                    133\n",
       "4    Cysteine             C                    121\n",
       "\n",
       "[5 rows x 3 columns]"
      ]
     },
     "execution_count": 61,
     "metadata": {},
     "output_type": "execute_result"
    }
   ],
   "source": [
    "amino = pd.read_csv('Aminoacids.csv', header = 0)\n",
    "amino.head()"
   ]
  },
  {
   "cell_type": "code",
   "execution_count": 62,
   "metadata": {
    "collapsed": false
   },
   "outputs": [
    {
     "data": {
      "text/plain": [
       "{nan: nan,\n",
       " 'A': 89.0,\n",
       " 'C': 121.0,\n",
       " 'D': 133.0,\n",
       " 'E': 146.0,\n",
       " 'F': 165.0,\n",
       " 'G': 75.0,\n",
       " 'H': 155.0,\n",
       " 'I': 131.0,\n",
       " 'K': 146.0,\n",
       " 'L': 131.0,\n",
       " 'M': 149.0,\n",
       " 'N': 132.0,\n",
       " 'P': 115.0,\n",
       " 'Q': 147.0,\n",
       " 'R': 174.0,\n",
       " 'S': 105.0,\n",
       " 'T': 119.0,\n",
       " 'V': 117.0,\n",
       " 'W': 204.0,\n",
       " 'Y': 181.0}"
      ]
     },
     "execution_count": 62,
     "metadata": {},
     "output_type": "execute_result"
    }
   ],
   "source": [
    "amino.drop('Aminoacid', axis = 1, inplace = True)\n",
    "amino.columns = ['Code', 'Weight']\n",
    "weights = amino.set_index('Code')['Weight'].to_dict()\n",
    "weights"
   ]
  },
  {
   "cell_type": "markdown",
   "metadata": {},
   "source": [
    "# Peptide data cleaning"
   ]
  },
  {
   "cell_type": "code",
   "execution_count": 63,
   "metadata": {
    "collapsed": false
   },
   "outputs": [
    {
     "data": {
      "text/html": [
       "<div style=\"max-height:1000px;max-width:1500px;overflow:auto;\">\n",
       "<table border=\"1\" class=\"dataframe\">\n",
       "  <thead>\n",
       "    <tr style=\"text-align: right;\">\n",
       "      <th></th>\n",
       "      <th>Grid Index</th>\n",
       "      <th>Peptide</th>\n",
       "      <th>Spot Signal</th>\n",
       "      <th>Spot SD</th>\n",
       "    </tr>\n",
       "  </thead>\n",
       "  <tbody>\n",
       "    <tr>\n",
       "      <th>0</th>\n",
       "      <td> 0</td>\n",
       "      <td>       WTHPQFAT</td>\n",
       "      <td> 0.000642</td>\n",
       "      <td> 0.000224</td>\n",
       "    </tr>\n",
       "    <tr>\n",
       "      <th>1</th>\n",
       "      <td> 1</td>\n",
       "      <td>       WTHPQFAT</td>\n",
       "      <td> 0.001130</td>\n",
       "      <td> 0.000110</td>\n",
       "    </tr>\n",
       "    <tr>\n",
       "      <th>2</th>\n",
       "      <td> 2</td>\n",
       "      <td>       WTHLQFAT</td>\n",
       "      <td> 0.000244</td>\n",
       "      <td> 0.000110</td>\n",
       "    </tr>\n",
       "    <tr>\n",
       "      <th>3</th>\n",
       "      <td> 3</td>\n",
       "      <td>  NGQFQVWIPLAQK</td>\n",
       "      <td> 0.002490</td>\n",
       "      <td> 0.000289</td>\n",
       "    </tr>\n",
       "    <tr>\n",
       "      <th>4</th>\n",
       "      <td> 4</td>\n",
       "      <td>      LQLHPQAGK</td>\n",
       "      <td> 0.003110</td>\n",
       "      <td> 0.000157</td>\n",
       "    </tr>\n",
       "  </tbody>\n",
       "</table>\n",
       "<p>5 rows × 4 columns</p>\n",
       "</div>"
      ],
      "text/plain": [
       "   Grid Index         Peptide  Spot Signal   Spot SD\n",
       "0           0        WTHPQFAT     0.000642  0.000224\n",
       "1           1        WTHPQFAT     0.001130  0.000110\n",
       "2           2        WTHLQFAT     0.000244  0.000110\n",
       "3           3   NGQFQVWIPLAQK     0.002490  0.000289\n",
       "4           4       LQLHPQAGK     0.003110  0.000157\n",
       "\n",
       "[5 rows x 4 columns]"
      ]
     },
     "execution_count": 63,
     "metadata": {},
     "output_type": "execute_result"
    }
   ],
   "source": [
    "data = pd.read_csv('Peptides.csv', header = 0)\n",
    "data.head()"
   ]
  },
  {
   "cell_type": "code",
   "execution_count": 64,
   "metadata": {
    "collapsed": false
   },
   "outputs": [
    {
     "data": {
      "text/html": [
       "<div style=\"max-height:1000px;max-width:1500px;overflow:auto;\">\n",
       "<table border=\"1\" class=\"dataframe\">\n",
       "  <thead>\n",
       "    <tr style=\"text-align: right;\">\n",
       "      <th></th>\n",
       "      <th>Peptide</th>\n",
       "      <th>Spot Signal</th>\n",
       "    </tr>\n",
       "  </thead>\n",
       "  <tbody>\n",
       "    <tr>\n",
       "      <th>0</th>\n",
       "      <td> AGQFQVWIPGAQK</td>\n",
       "      <td> 0.00253</td>\n",
       "    </tr>\n",
       "    <tr>\n",
       "      <th>1</th>\n",
       "      <td> AGQFQVWIPGAQK</td>\n",
       "      <td> 0.00279</td>\n",
       "    </tr>\n",
       "    <tr>\n",
       "      <th>2</th>\n",
       "      <td> AGQFQVWIPGAQK</td>\n",
       "      <td> 0.00336</td>\n",
       "    </tr>\n",
       "    <tr>\n",
       "      <th>3</th>\n",
       "      <td> AGQFQVWIPGAQK</td>\n",
       "      <td> 0.00255</td>\n",
       "    </tr>\n",
       "    <tr>\n",
       "      <th>4</th>\n",
       "      <td> AGQFQVWIPGAQK</td>\n",
       "      <td> 0.00187</td>\n",
       "    </tr>\n",
       "  </tbody>\n",
       "</table>\n",
       "<p>5 rows × 2 columns</p>\n",
       "</div>"
      ],
      "text/plain": [
       "         Peptide  Spot Signal\n",
       "0  AGQFQVWIPGAQK      0.00253\n",
       "1  AGQFQVWIPGAQK      0.00279\n",
       "2  AGQFQVWIPGAQK      0.00336\n",
       "3  AGQFQVWIPGAQK      0.00255\n",
       "4  AGQFQVWIPGAQK      0.00187\n",
       "\n",
       "[5 rows x 2 columns]"
      ]
     },
     "execution_count": 64,
     "metadata": {},
     "output_type": "execute_result"
    }
   ],
   "source": [
    "data['Peptide'] = data['Peptide'].map(lambda x: x.strip())\n",
    "data.drop(['Grid Index', 'Spot SD'], axis = 1, inplace = True)\n",
    "\n",
    "data = data[(data['Peptide'] != 'X') & (data['Peptide'] != 'NA')]\n",
    "data.sort(['Peptide'], inplace = True)\n",
    "data = data.reset_index(drop = True)\n",
    "\n",
    "data.head()"
   ]
  },
  {
   "cell_type": "markdown",
   "metadata": {},
   "source": [
    "# Calculate mean and standard deviation by peptide"
   ]
  },
  {
   "cell_type": "code",
   "execution_count": 65,
   "metadata": {
    "collapsed": false
   },
   "outputs": [
    {
     "data": {
      "text/html": [
       "<div style=\"max-height:1000px;max-width:1500px;overflow:auto;\">\n",
       "<table border=\"1\" class=\"dataframe\">\n",
       "  <thead>\n",
       "    <tr style=\"text-align: right;\">\n",
       "      <th></th>\n",
       "      <th>Peptide</th>\n",
       "      <th>Number of Spots</th>\n",
       "      <th>Mean Spot Signal</th>\n",
       "      <th>Standard Deviation</th>\n",
       "      <th>Standard Error</th>\n",
       "      <th>Non Negative Spot Signal</th>\n",
       "    </tr>\n",
       "  </thead>\n",
       "  <tbody>\n",
       "    <tr>\n",
       "      <th>0</th>\n",
       "      <td> AGQFQVWIPGAQK</td>\n",
       "      <td>  20</td>\n",
       "      <td> 0.002625</td>\n",
       "      <td> 0.000342</td>\n",
       "      <td> 0.000077</td>\n",
       "      <td> 0.002625</td>\n",
       "    </tr>\n",
       "    <tr>\n",
       "      <th>1</th>\n",
       "      <td>       AISPPPK</td>\n",
       "      <td> 100</td>\n",
       "      <td> 0.002837</td>\n",
       "      <td> 0.000502</td>\n",
       "      <td> 0.000050</td>\n",
       "      <td> 0.002837</td>\n",
       "    </tr>\n",
       "    <tr>\n",
       "      <th>2</th>\n",
       "      <td>  AKFPIPLGKQSG</td>\n",
       "      <td>   4</td>\n",
       "      <td> 0.002910</td>\n",
       "      <td> 0.000384</td>\n",
       "      <td> 0.000192</td>\n",
       "      <td> 0.002910</td>\n",
       "    </tr>\n",
       "    <tr>\n",
       "      <th>3</th>\n",
       "      <td>     AQWHPQAGK</td>\n",
       "      <td>   4</td>\n",
       "      <td> 0.002933</td>\n",
       "      <td> 0.000310</td>\n",
       "      <td> 0.000155</td>\n",
       "      <td> 0.002933</td>\n",
       "    </tr>\n",
       "    <tr>\n",
       "      <th>4</th>\n",
       "      <td>      ATHPQFAT</td>\n",
       "      <td>   4</td>\n",
       "      <td> 0.001607</td>\n",
       "      <td> 0.000362</td>\n",
       "      <td> 0.000181</td>\n",
       "      <td> 0.001607</td>\n",
       "    </tr>\n",
       "  </tbody>\n",
       "</table>\n",
       "<p>5 rows × 6 columns</p>\n",
       "</div>"
      ],
      "text/plain": [
       "         Peptide  Number of Spots  Mean Spot Signal  Standard Deviation  \\\n",
       "0  AGQFQVWIPGAQK               20          0.002625            0.000342   \n",
       "1        AISPPPK              100          0.002837            0.000502   \n",
       "2   AKFPIPLGKQSG                4          0.002910            0.000384   \n",
       "3      AQWHPQAGK                4          0.002933            0.000310   \n",
       "4       ATHPQFAT                4          0.001607            0.000362   \n",
       "\n",
       "   Standard Error  Non Negative Spot Signal  \n",
       "0        0.000077                  0.002625  \n",
       "1        0.000050                  0.002837  \n",
       "2        0.000192                  0.002910  \n",
       "3        0.000155                  0.002933  \n",
       "4        0.000181                  0.001607  \n",
       "\n",
       "[5 rows x 6 columns]"
      ]
     },
     "execution_count": 65,
     "metadata": {},
     "output_type": "execute_result"
    }
   ],
   "source": [
    "grouped = data.groupby('Peptide')\n",
    "result = grouped.agg([len, np.mean, np.std, stats.sem])\n",
    "\n",
    "result.columns = result.columns.droplevel()\n",
    "result.reset_index(inplace = True)\n",
    "\n",
    "result.columns = ['Peptide', 'Number of Spots', 'Mean Spot Signal', 'Standard Deviation', 'Standard Error']\n",
    "result['Non Negative Spot Signal'] = result['Mean Spot Signal'] * (result['Mean Spot Signal'] > 0)\n",
    "\n",
    "result.head()"
   ]
  },
  {
   "cell_type": "markdown",
   "metadata": {},
   "source": [
    "# Add length, weight, and sort"
   ]
  },
  {
   "cell_type": "code",
   "execution_count": 67,
   "metadata": {
    "collapsed": false
   },
   "outputs": [
    {
     "data": {
      "text/html": [
       "<div style=\"max-height:1000px;max-width:1500px;overflow:auto;\">\n",
       "<table border=\"1\" class=\"dataframe\">\n",
       "  <thead>\n",
       "    <tr style=\"text-align: right;\">\n",
       "      <th></th>\n",
       "      <th>Peptide</th>\n",
       "      <th>Number of Spots</th>\n",
       "      <th>Mean Spot Signal</th>\n",
       "      <th>Standard Deviation</th>\n",
       "      <th>Standard Error</th>\n",
       "      <th>Non Negative Spot Signal</th>\n",
       "      <th>Peptide Length</th>\n",
       "      <th>Peptide Weight (kDa)</th>\n",
       "    </tr>\n",
       "  </thead>\n",
       "  <tbody>\n",
       "    <tr>\n",
       "      <th>0</th>\n",
       "      <td> AISPPPK</td>\n",
       "      <td> 100</td>\n",
       "      <td> 0.002837</td>\n",
       "      <td> 0.000502</td>\n",
       "      <td> 0.000050</td>\n",
       "      <td> 0.002837</td>\n",
       "      <td> 7</td>\n",
       "      <td> 816</td>\n",
       "    </tr>\n",
       "    <tr>\n",
       "      <th>1</th>\n",
       "      <td> THPQFAT</td>\n",
       "      <td>   3</td>\n",
       "      <td> 0.001647</td>\n",
       "      <td> 0.000257</td>\n",
       "      <td> 0.000148</td>\n",
       "      <td> 0.001647</td>\n",
       "      <td> 7</td>\n",
       "      <td> 909</td>\n",
       "    </tr>\n",
       "    <tr>\n",
       "      <th>2</th>\n",
       "      <td> WHPQFAT</td>\n",
       "      <td>   4</td>\n",
       "      <td> 0.000924</td>\n",
       "      <td> 0.000134</td>\n",
       "      <td> 0.000067</td>\n",
       "      <td> 0.000924</td>\n",
       "      <td> 7</td>\n",
       "      <td> 994</td>\n",
       "    </tr>\n",
       "    <tr>\n",
       "      <th>3</th>\n",
       "      <td> WTHPFAT</td>\n",
       "      <td>   4</td>\n",
       "      <td> 0.001179</td>\n",
       "      <td> 0.000203</td>\n",
       "      <td> 0.000101</td>\n",
       "      <td> 0.001179</td>\n",
       "      <td> 7</td>\n",
       "      <td> 966</td>\n",
       "    </tr>\n",
       "    <tr>\n",
       "      <th>4</th>\n",
       "      <td> WTHPQAT</td>\n",
       "      <td>   3</td>\n",
       "      <td> 0.001800</td>\n",
       "      <td> 0.000416</td>\n",
       "      <td> 0.000240</td>\n",
       "      <td> 0.001800</td>\n",
       "      <td> 7</td>\n",
       "      <td> 948</td>\n",
       "    </tr>\n",
       "  </tbody>\n",
       "</table>\n",
       "<p>5 rows × 8 columns</p>\n",
       "</div>"
      ],
      "text/plain": [
       "   Peptide  Number of Spots  Mean Spot Signal  Standard Deviation  \\\n",
       "0  AISPPPK              100          0.002837            0.000502   \n",
       "1  THPQFAT                3          0.001647            0.000257   \n",
       "2  WHPQFAT                4          0.000924            0.000134   \n",
       "3  WTHPFAT                4          0.001179            0.000203   \n",
       "4  WTHPQAT                3          0.001800            0.000416   \n",
       "\n",
       "   Standard Error  Non Negative Spot Signal  Peptide Length  \\\n",
       "0        0.000050                  0.002837               7   \n",
       "1        0.000148                  0.001647               7   \n",
       "2        0.000067                  0.000924               7   \n",
       "3        0.000101                  0.001179               7   \n",
       "4        0.000240                  0.001800               7   \n",
       "\n",
       "   Peptide Weight (kDa)  \n",
       "0                   816  \n",
       "1                   909  \n",
       "2                   994  \n",
       "3                   966  \n",
       "4                   948  \n",
       "\n",
       "[5 rows x 8 columns]"
      ]
     },
     "execution_count": 67,
     "metadata": {},
     "output_type": "execute_result"
    }
   ],
   "source": [
    "result['Peptide Length'] = result['Peptide'].map(lambda x: len(x))\n",
    "result['Peptide Weight (kDa)'] = result['Peptide'].map(lambda x: weight(x, weights))\n",
    "\n",
    "result.sort(['Peptide Length', 'Peptide'], inplace = True)\n",
    "result = result.reset_index(drop = True)\n",
    "\n",
    "result.head()"
   ]
  },
  {
   "cell_type": "code",
   "execution_count": 69,
   "metadata": {
    "collapsed": false
   },
   "outputs": [
    {
     "data": {
      "text/html": [
       "<div style=\"max-height:1000px;max-width:1500px;overflow:auto;\">\n",
       "<table border=\"1\" class=\"dataframe\">\n",
       "  <thead>\n",
       "    <tr style=\"text-align: right;\">\n",
       "      <th></th>\n",
       "      <th>Peptide</th>\n",
       "      <th>Peptide Length</th>\n",
       "      <th>Number of Spots</th>\n",
       "      <th>Peptide Weight (kDa)</th>\n",
       "      <th>Mean Spot Signal</th>\n",
       "      <th>Non Negative Spot Signal</th>\n",
       "      <th>Standard Deviation</th>\n",
       "      <th>Standard Error</th>\n",
       "    </tr>\n",
       "  </thead>\n",
       "  <tbody>\n",
       "    <tr>\n",
       "      <th>0</th>\n",
       "      <td> AISPPPK</td>\n",
       "      <td> 7</td>\n",
       "      <td> 100</td>\n",
       "      <td> 816</td>\n",
       "      <td> 0.002837</td>\n",
       "      <td> 0.002837</td>\n",
       "      <td> 0.000502</td>\n",
       "      <td> 0.000050</td>\n",
       "    </tr>\n",
       "    <tr>\n",
       "      <th>1</th>\n",
       "      <td> THPQFAT</td>\n",
       "      <td> 7</td>\n",
       "      <td>   3</td>\n",
       "      <td> 909</td>\n",
       "      <td> 0.001647</td>\n",
       "      <td> 0.001647</td>\n",
       "      <td> 0.000257</td>\n",
       "      <td> 0.000148</td>\n",
       "    </tr>\n",
       "    <tr>\n",
       "      <th>2</th>\n",
       "      <td> WHPQFAT</td>\n",
       "      <td> 7</td>\n",
       "      <td>   4</td>\n",
       "      <td> 994</td>\n",
       "      <td> 0.000924</td>\n",
       "      <td> 0.000924</td>\n",
       "      <td> 0.000134</td>\n",
       "      <td> 0.000067</td>\n",
       "    </tr>\n",
       "    <tr>\n",
       "      <th>3</th>\n",
       "      <td> WTHPFAT</td>\n",
       "      <td> 7</td>\n",
       "      <td>   4</td>\n",
       "      <td> 966</td>\n",
       "      <td> 0.001179</td>\n",
       "      <td> 0.001179</td>\n",
       "      <td> 0.000203</td>\n",
       "      <td> 0.000101</td>\n",
       "    </tr>\n",
       "    <tr>\n",
       "      <th>4</th>\n",
       "      <td> WTHPQAT</td>\n",
       "      <td> 7</td>\n",
       "      <td>   3</td>\n",
       "      <td> 948</td>\n",
       "      <td> 0.001800</td>\n",
       "      <td> 0.001800</td>\n",
       "      <td> 0.000416</td>\n",
       "      <td> 0.000240</td>\n",
       "    </tr>\n",
       "  </tbody>\n",
       "</table>\n",
       "<p>5 rows × 8 columns</p>\n",
       "</div>"
      ],
      "text/plain": [
       "   Peptide  Peptide Length  Number of Spots  Peptide Weight (kDa)  \\\n",
       "0  AISPPPK               7              100                   816   \n",
       "1  THPQFAT               7                3                   909   \n",
       "2  WHPQFAT               7                4                   994   \n",
       "3  WTHPFAT               7                4                   966   \n",
       "4  WTHPQAT               7                3                   948   \n",
       "\n",
       "   Mean Spot Signal  Non Negative Spot Signal  Standard Deviation  \\\n",
       "0          0.002837                  0.002837            0.000502   \n",
       "1          0.001647                  0.001647            0.000257   \n",
       "2          0.000924                  0.000924            0.000134   \n",
       "3          0.001179                  0.001179            0.000203   \n",
       "4          0.001800                  0.001800            0.000416   \n",
       "\n",
       "   Standard Error  \n",
       "0        0.000050  \n",
       "1        0.000148  \n",
       "2        0.000067  \n",
       "3        0.000101  \n",
       "4        0.000240  \n",
       "\n",
       "[5 rows x 8 columns]"
      ]
     },
     "execution_count": 69,
     "metadata": {},
     "output_type": "execute_result"
    }
   ],
   "source": [
    "# rearrange order of columns\n",
    "result = result.reindex_axis(['Peptide',\n",
    "                              'Peptide Length',\n",
    "                              'Number of Spots',\n",
    "                              'Peptide Weight (kDa)',\n",
    "                              'Mean Spot Signal',\n",
    "                              'Non Negative Spot Signal',\n",
    "                              'Standard Deviation',\n",
    "                              'Standard Error'], axis=1)\n",
    "result.head()"
   ]
  },
  {
   "cell_type": "code",
   "execution_count": 70,
   "metadata": {
    "collapsed": false
   },
   "outputs": [],
   "source": [
    "result.to_csv('result.csv', index = False)"
   ]
  },
  {
   "cell_type": "code",
   "execution_count": null,
   "metadata": {
    "collapsed": true
   },
   "outputs": [],
   "source": []
  }
 ],
 "metadata": {
  "kernelspec": {
   "display_name": "Python 2",
   "language": "python",
   "name": "python2"
  },
  "language_info": {
   "codemirror_mode": {
    "name": "ipython",
    "version": 2
   },
   "file_extension": ".py",
   "mimetype": "text/x-python",
   "name": "python",
   "nbconvert_exporter": "python",
   "pygments_lexer": "ipython2",
   "version": "2.7.6"
  }
 },
 "nbformat": 4,
 "nbformat_minor": 0
}
