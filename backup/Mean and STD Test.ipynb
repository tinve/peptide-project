{
 "cells": [
  {
   "cell_type": "code",
   "execution_count": 5,
   "metadata": {
    "collapsed": true
   },
   "outputs": [],
   "source": [
    "import numpy as np\n",
    "import pandas as pd"
   ]
  },
  {
   "cell_type": "code",
   "execution_count": 12,
   "metadata": {
    "collapsed": false
   },
   "outputs": [
    {
     "name": "stdout",
     "output_type": "stream",
     "text": [
      "  Peptide  Signal\n",
      "0       A       1\n",
      "1       A       1\n",
      "2       A       2\n",
      "3       A       0\n",
      "4       B       3\n",
      "5       B       3\n",
      "6       C      10\n",
      "7       C       8\n",
      "8       C       9\n",
      "\n",
      "[9 rows x 2 columns]\n"
     ]
    }
   ],
   "source": [
    "df = pd.DataFrame({'Peptide' : ['A','A','A','A','B','B','C','C','C'],\n",
    "                'Signal' :  [ 1,  1,  2,  0,  3,  3, 10,  8,  9]})\n",
    "print df"
   ]
  },
  {
   "cell_type": "code",
   "execution_count": 13,
   "metadata": {
    "collapsed": false
   },
   "outputs": [
    {
     "name": "stdout",
     "output_type": "stream",
     "text": [
      "{'A': [0, 1, 2, 3], 'C': [6, 7, 8], 'B': [4, 5]}\n"
     ]
    }
   ],
   "source": [
    "grouped = df.groupby('Peptide')\n",
    "print grouped.groups"
   ]
  },
  {
   "cell_type": "code",
   "execution_count": 14,
   "metadata": {
    "collapsed": false
   },
   "outputs": [
    {
     "name": "stdout",
     "output_type": "stream",
     "text": [
      "         Signal          \n",
      "           mean       std\n",
      "Peptide                  \n",
      "A             1  0.816497\n",
      "B             3  0.000000\n",
      "C             9  1.000000\n",
      "\n",
      "[3 rows x 2 columns]\n"
     ]
    }
   ],
   "source": [
    "result = grouped.agg([np.mean, np.std])\n",
    "print result"
   ]
  },
  {
   "cell_type": "code",
   "execution_count": null,
   "metadata": {
    "collapsed": true
   },
   "outputs": [],
   "source": []
  }
 ],
 "metadata": {
  "kernelspec": {
   "display_name": "Python 2",
   "language": "python",
   "name": "python2"
  },
  "language_info": {
   "codemirror_mode": {
    "name": "ipython",
    "version": 2
   },
   "file_extension": ".py",
   "mimetype": "text/x-python",
   "name": "python",
   "nbconvert_exporter": "python",
   "pygments_lexer": "ipython2",
   "version": "2.7.6"
  }
 },
 "nbformat": 4,
 "nbformat_minor": 0
}
