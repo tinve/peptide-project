{
 "cells": [
  {
   "cell_type": "code",
   "execution_count": 61,
   "metadata": {
    "collapsed": false
   },
   "outputs": [],
   "source": [
    "import numpy as np\n",
    "import pandas as pd\n",
    "import matplotlib.pyplot as plt\n",
    "import os\n",
    "\n",
    "os.chdir('/home/galina/PythonProjects/Peptide Signal')"
   ]
  },
  {
   "cell_type": "code",
   "execution_count": 63,
   "metadata": {
    "collapsed": false
   },
   "outputs": [],
   "source": [
    "# base  = 'WTHPQFAT'\n",
    "# fname = '8-sets.txt'\n",
    "# foutname = \"8-sets-ordered.txt\"\n",
    "\n",
    "base  = 'LQWHPQAGK'\n",
    "fname = '9-sets.txt'\n",
    "foutname = \"9-sets-ordered.txt\"\n",
    "\n",
    "aminoacids = ['A', 'C', 'D', 'E', 'F',\n",
    "              'G', 'H', 'I', 'K', 'L',\n",
    "              'M', 'N', 'P', 'Q', 'R',\n",
    "              'S', 'T', 'V', 'W', 'Y']\n",
    "\n",
    "def namelist(base, n):\n",
    "    names = []\n",
    "    for a in aminoacids:\n",
    "        names.append(base[:n - 1] + a + base[n:])\n",
    "    return names\n",
    "\n",
    "sets = pd.read_csv(fname, header = None, sep = '\\t')\n",
    "\n",
    "d = {sets.iloc[i, 0] : sets.iloc[i, 1] for i in range(len(sets))}\n",
    "\n",
    "name_list = []\n",
    "for i in range(1, length + 1):\n",
    "    name_list = name_list + namelist(base, i)\n",
    "    \n",
    "file = open(foutname, \"w\")\n",
    "\n",
    "for name in name_list:\n",
    "    file.write(name + '\\t' + d[name] + '\\n')\n",
    "\n",
    "file.close()"
   ]
  },
  {
   "cell_type": "code",
   "execution_count": null,
   "metadata": {
    "collapsed": true
   },
   "outputs": [],
   "source": []
  }
 ],
 "metadata": {
  "kernelspec": {
   "display_name": "Python 2",
   "language": "python",
   "name": "python2"
  },
  "language_info": {
   "codemirror_mode": {
    "name": "ipython",
    "version": 2
   },
   "file_extension": ".py",
   "mimetype": "text/x-python",
   "name": "python",
   "nbconvert_exporter": "python",
   "pygments_lexer": "ipython2",
   "version": "2.7.9"
  }
 },
 "nbformat": 4,
 "nbformat_minor": 0
}
